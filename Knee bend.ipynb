{
 "cells": [
  {
   "cell_type": "code",
   "execution_count": 1,
   "id": "85c6c526",
   "metadata": {},
   "outputs": [],
   "source": [
    "import cv2\n",
    "import mediapipe as mp\n",
    "import numpy as np\n",
    "mp_drawing = mp.solutions.drawing_utils\n",
    "mp_pose= mp.solutions.pose"
   ]
  },
  {
   "cell_type": "markdown",
   "id": "b7824dfa",
   "metadata": {},
   "source": [
    "1.Make detections"
   ]
  },
  {
   "cell_type": "markdown",
   "id": "0ad2afa7",
   "metadata": {},
   "source": [
    "Determining Joints\n"
   ]
  },
  {
   "cell_type": "markdown",
   "id": "53cd6dc5",
   "metadata": {},
   "source": [
    "#Calculate angles"
   ]
  },
  {
   "cell_type": "code",
   "execution_count": 2,
   "id": "c14fbc57",
   "metadata": {},
   "outputs": [],
   "source": [
    "def calculate_angle(a,b,c):\n",
    "    a = np.array(a)\n",
    "    b = np.array(b)\n",
    "    c = np.array(c)\n",
    "    \n",
    "    radians = np.arctan2(c[1]-b[1],c[0]-b[0]) - np.arctan2(a[1]-b[1],a[0]-b[0])\n",
    "    angle = np.abs(radians*180.0/np.pi)\n",
    "    \n",
    "    if angle >180.0:\n",
    "        angle = 360-angle\n",
    "    return angle"
   ]
  },
  {
   "cell_type": "code",
   "execution_count": 10,
   "id": "9b45d4c7",
   "metadata": {},
   "outputs": [],
   "source": [
    "hip = [landmarks[mp_pose.PoseLandmark.LEFT_HIP.value].x,landmarks[mp_pose.PoseLandmark.LEFT_HIP.value].y]\n",
    "knee = [landmarks[mp_pose.PoseLandmark.LEFT_KNEE.value].x,landmarks[mp_pose.PoseLandmark.LEFT_KNEE.value].y]\n",
    "ankle = [landmarks[mp_pose.PoseLandmark.LEFT_ANKLE.value].x,landmarks[mp_pose.PoseLandmark.LEFT_ANKLE.value].y]\n",
    "            "
   ]
  },
  {
   "cell_type": "code",
   "execution_count": 11,
   "id": "da05db6b",
   "metadata": {},
   "outputs": [
    {
     "data": {
      "text/plain": [
       "([0.6312652230262756, 0.8198847770690918],\n",
       " [0.5262289047241211, 0.6179972290992737],\n",
       " [0.41397926211357117, 0.78093421459198])"
      ]
     },
     "execution_count": 11,
     "metadata": {},
     "output_type": "execute_result"
    }
   ],
   "source": [
    "hip,knee,ankle"
   ]
  },
  {
   "cell_type": "code",
   "execution_count": 20,
   "id": "3bd657d0",
   "metadata": {},
   "outputs": [
    {
     "data": {
      "text/plain": [
       "57.55965998707296"
      ]
     },
     "execution_count": 20,
     "metadata": {},
     "output_type": "execute_result"
    }
   ],
   "source": [
    "calculate_angle(hip,knee,ankle)"
   ]
  },
  {
   "cell_type": "code",
   "execution_count": 13,
   "id": "3d26dbdf",
   "metadata": {},
   "outputs": [
    {
     "data": {
      "text/plain": [
       "array([336, 296])"
      ]
     },
     "execution_count": 13,
     "metadata": {},
     "output_type": "execute_result"
    }
   ],
   "source": [
    "np.multiply(knee,[640,480]).astype(int)"
   ]
  },
  {
   "cell_type": "code",
   "execution_count": 14,
   "id": "388cde25",
   "metadata": {},
   "outputs": [
    {
     "data": {
      "text/plain": [
       "x: 0.5262289047241211\n",
       "y: 0.6179972290992737\n",
       "z: -0.14157964289188385\n",
       "visibility: 0.985906183719635"
      ]
     },
     "execution_count": 14,
     "metadata": {},
     "output_type": "execute_result"
    }
   ],
   "source": [
    "landmarks[mp_pose.PoseLandmark.LEFT_KNEE.value]"
   ]
  },
  {
   "cell_type": "code",
   "execution_count": 3,
   "id": "a7b8492d",
   "metadata": {},
   "outputs": [],
   "source": [
    "import time"
   ]
  },
  {
   "cell_type": "code",
   "execution_count": 4,
   "id": "3d381d1c",
   "metadata": {},
   "outputs": [
    {
     "name": "stdout",
     "output_type": "stream",
     "text": [
      "8seconds remaining\n",
      "7seconds remaining\n",
      "6seconds remaining\n",
      "5seconds remaining\n",
      "4seconds remaining\n",
      "3seconds remaining\n",
      "2seconds remaining\n",
      "1seconds remaining\n",
      "ended loop\n",
      "1\n",
      "8seconds remaining\n",
      "7seconds remaining\n",
      "6seconds remaining\n",
      "5seconds remaining\n",
      "4seconds remaining\n",
      "3seconds remaining\n",
      "2seconds remaining\n",
      "1seconds remaining\n",
      "ended loop\n",
      "2\n",
      "8seconds remaining\n",
      "7seconds remaining\n",
      "6seconds remaining\n",
      "5seconds remaining\n",
      "4seconds remaining\n",
      "3seconds remaining\n",
      "2seconds remaining\n",
      "1seconds remaining\n",
      "ended loop\n",
      "3\n",
      "8seconds remaining\n",
      "7seconds remaining\n",
      "6seconds remaining\n",
      "5seconds remaining\n",
      "4seconds remaining\n",
      "3seconds remaining\n",
      "2seconds remaining\n",
      "1seconds remaining\n",
      "ended loop\n",
      "4\n",
      "8seconds remaining\n",
      "7seconds remaining\n",
      "6seconds remaining\n",
      "5seconds remaining\n",
      "4seconds remaining\n",
      "3seconds remaining\n",
      "2seconds remaining\n",
      "1seconds remaining\n",
      "ended loop\n",
      "5\n",
      "8seconds remaining\n",
      "7seconds remaining\n",
      "6seconds remaining\n",
      "5seconds remaining\n",
      "4seconds remaining\n",
      "3seconds remaining\n",
      "2seconds remaining\n",
      "1seconds remaining\n",
      "ended loop\n",
      "6\n",
      "8seconds remaining\n",
      "7seconds remaining\n",
      "6seconds remaining\n",
      "5seconds remaining\n",
      "4seconds remaining\n",
      "3seconds remaining\n",
      "2seconds remaining\n",
      "1seconds remaining\n",
      "ended loop\n",
      "7\n",
      "8seconds remaining\n",
      "7seconds remaining\n",
      "6seconds remaining\n",
      "5seconds remaining\n",
      "4seconds remaining\n",
      "3seconds remaining\n",
      "2seconds remaining\n",
      "1seconds remaining\n",
      "ended loop\n",
      "8\n",
      "8seconds remaining\n",
      "7seconds remaining\n",
      "6seconds remaining\n",
      "5seconds remaining\n",
      "4seconds remaining\n",
      "3seconds remaining\n",
      "2seconds remaining\n",
      "1seconds remaining\n",
      "ended loop\n",
      "9\n",
      "8seconds remaining\n",
      "7seconds remaining\n",
      "6seconds remaining\n",
      "5seconds remaining\n",
      "4seconds remaining\n",
      "3seconds remaining\n",
      "2seconds remaining\n",
      "1seconds remaining\n",
      "ended loop\n",
      "10\n",
      "8seconds remaining\n",
      "7seconds remaining\n",
      "6seconds remaining\n",
      "5seconds remaining\n",
      "4seconds remaining\n",
      "3seconds remaining\n",
      "2seconds remaining\n",
      "1seconds remaining\n",
      "ended loop\n",
      "11\n",
      "8seconds remaining\n",
      "7seconds remaining\n",
      "6seconds remaining\n",
      "5seconds remaining\n",
      "4seconds remaining\n",
      "3seconds remaining\n",
      "2seconds remaining\n",
      "1seconds remaining\n",
      "ended loop\n",
      "12\n",
      "8seconds remaining\n",
      "7seconds remaining\n",
      "6seconds remaining\n",
      "5seconds remaining\n",
      "4seconds remaining\n",
      "3seconds remaining\n",
      "2seconds remaining\n",
      "1seconds remaining\n",
      "ended loop\n",
      "13\n",
      "8seconds remaining\n",
      "7seconds remaining\n",
      "6seconds remaining\n",
      "5seconds remaining\n",
      "4seconds remaining\n",
      "3seconds remaining\n",
      "2seconds remaining\n",
      "1seconds remaining\n",
      "ended loop\n",
      "14\n",
      "8seconds remaining\n",
      "7seconds remaining\n",
      "6seconds remaining\n",
      "5seconds remaining\n",
      "4seconds remaining\n",
      "3seconds remaining\n",
      "2seconds remaining\n",
      "1seconds remaining\n",
      "ended loop\n",
      "15\n"
     ]
    },
    {
     "ename": "error",
     "evalue": "OpenCV(4.5.5) D:\\a\\opencv-python\\opencv-python\\opencv\\modules\\imgproc\\src\\color.cpp:182: error: (-215:Assertion failed) !_src.empty() in function 'cv::cvtColor'\n",
     "output_type": "error",
     "traceback": [
      "\u001b[1;31m---------------------------------------------------------------------------\u001b[0m",
      "\u001b[1;31merror\u001b[0m                                     Traceback (most recent call last)",
      "Cell \u001b[1;32mIn [4], line 13\u001b[0m\n\u001b[0;32m     10\u001b[0m ret, frame \u001b[38;5;241m=\u001b[39m cap\u001b[38;5;241m.\u001b[39mread()\n\u001b[0;32m     12\u001b[0m \u001b[38;5;66;03m# Recolor image to RGB\u001b[39;00m\n\u001b[1;32m---> 13\u001b[0m image \u001b[38;5;241m=\u001b[39m \u001b[43mcv2\u001b[49m\u001b[38;5;241;43m.\u001b[39;49m\u001b[43mcvtColor\u001b[49m\u001b[43m(\u001b[49m\u001b[43mframe\u001b[49m\u001b[43m,\u001b[49m\u001b[43m \u001b[49m\u001b[43mcv2\u001b[49m\u001b[38;5;241;43m.\u001b[39;49m\u001b[43mCOLOR_BGR2RGB\u001b[49m\u001b[43m)\u001b[49m\n\u001b[0;32m     14\u001b[0m image\u001b[38;5;241m.\u001b[39mflags\u001b[38;5;241m.\u001b[39mwriteable \u001b[38;5;241m=\u001b[39m \u001b[38;5;28;01mFalse\u001b[39;00m\n\u001b[0;32m     16\u001b[0m \u001b[38;5;66;03m# Make detection\u001b[39;00m\n",
      "\u001b[1;31merror\u001b[0m: OpenCV(4.5.5) D:\\a\\opencv-python\\opencv-python\\opencv\\modules\\imgproc\\src\\color.cpp:182: error: (-215:Assertion failed) !_src.empty() in function 'cv::cvtColor'\n"
     ]
    }
   ],
   "source": [
    "#cap = cv2.VideoCapture(0)\n",
    "cap = cv2.VideoCapture(\"KneeBendVideo.mp4\")\n",
    "# Curl counter variables\n",
    "counter = 0 \n",
    "stage = None\n",
    "\n",
    "## Setup mediapipe instance\n",
    "with mp_pose.Pose(min_detection_confidence=0.5, min_tracking_confidence=0.5) as pose:\n",
    "    while cap.isOpened():\n",
    "        ret, frame = cap.read()\n",
    "        \n",
    "        # Recolor image to RGB\n",
    "        image = cv2.cvtColor(frame, cv2.COLOR_BGR2RGB)\n",
    "        image.flags.writeable = False\n",
    "      \n",
    "        # Make detection\n",
    "        results = pose.process(image)\n",
    "    \n",
    "        # Recolor back to BGR\n",
    "        image.flags.writeable = True\n",
    "        image = cv2.cvtColor(image, cv2.COLOR_RGB2BGR)\n",
    "        \n",
    "        # Extract landmarks\n",
    "        try:\n",
    "            landmarks = results.pose_landmarks.landmark\n",
    "            \n",
    "            # Get coordinates\n",
    "            hip = [landmarks[mp_pose.PoseLandmark.LEFT_HIP.value].x,landmarks[mp_pose.PoseLandmark.LEFT_HIP.value].y]\n",
    "            knee = [landmarks[mp_pose.PoseLandmark.LEFT_KNEE.value].x,landmarks[mp_pose.PoseLandmark.LEFT_KNEE.value].y]\n",
    "            ankle = [landmarks[mp_pose.PoseLandmark.LEFT_ANKLE.value].x,landmarks[mp_pose.PoseLandmark.LEFT_ANKLE.value].y]\n",
    "        \n",
    "            \n",
    "            # Calculate angle\n",
    "            angle = calculate_angle(hip, knee, ankle)\n",
    "            \n",
    "            # Visualize angle\n",
    "            cv2.putText(image, str(angle), \n",
    "                           tuple(np.multiply(knee, [854, 640]).astype(int)), \n",
    "                           cv2.FONT_HERSHEY_SIMPLEX, 0.5, (255, 255, 255), 2, cv2.LINE_AA\n",
    "                                )\n",
    "            \n",
    "            \n",
    "            if angle > 140:\n",
    "                stage = \"Bend your leg\"\n",
    "            if angle < 95 and stage == \"Bend your leg\":\n",
    "                stage=\"Very good, now hold it for 8 secs\"\n",
    "                \n",
    "                timer_sec = 8\n",
    "                for i in range(timer_sec):\n",
    "                    print(str(timer_sec-i) + \"seconds remaining\")\n",
    "                    time.sleep(1)\n",
    "                else:\n",
    "                    print('ended loop')\n",
    "                \n",
    "                \n",
    "                \n",
    "               \n",
    "                counter +=1\n",
    "                print(counter)\n",
    "                \n",
    "                                    \n",
    "        except:\n",
    "            pass\n",
    "        \n",
    "       \n",
    "        \n",
    "        # Rep data\n",
    "        cv2.putText(image, 'REPS:', (30,90), \n",
    "                    cv2.FONT_HERSHEY_SIMPLEX, 0.5, (255,255,255), 2, cv2.LINE_AA)\n",
    "        cv2.putText(image, str(counter), \n",
    "                    (80,95), \n",
    "                    cv2.FONT_HERSHEY_SIMPLEX, 1, (255,255,255), 2, cv2.LINE_AA)\n",
    "        \n",
    "      \n",
    "        cv2.putText(image, stage, \n",
    "                    (20,50), \n",
    "                    cv2.FONT_HERSHEY_SIMPLEX, 1, (255,255,255), 2, cv2.LINE_AA)\n",
    "        \n",
    "        \n",
    "        # Render detections\n",
    "        mp_drawing.draw_landmarks(image, results.pose_landmarks, mp_pose.POSE_CONNECTIONS,\n",
    "                                mp_drawing.DrawingSpec(color=(245,117,66), thickness=2, circle_radius=2), \n",
    "                                mp_drawing.DrawingSpec(color=(245,66,230), thickness=2, circle_radius=2) \n",
    "                                 )               \n",
    "        \n",
    "        cv2.imshow('Mediapipe Feed', image)\n",
    "\n",
    "        if cv2.waitKey(10) & 0xFF == ord('q'):\n",
    "            break\n",
    "\n",
    "    cap.release()\n",
    "    cv2.destroyAllWindows()"
   ]
  },
  {
   "cell_type": "code",
   "execution_count": null,
   "id": "ba298808",
   "metadata": {},
   "outputs": [],
   "source": []
  }
 ],
 "metadata": {
  "kernelspec": {
   "display_name": "Python 3 (ipykernel)",
   "language": "python",
   "name": "python3"
  },
  "language_info": {
   "codemirror_mode": {
    "name": "ipython",
    "version": 3
   },
   "file_extension": ".py",
   "mimetype": "text/x-python",
   "name": "python",
   "nbconvert_exporter": "python",
   "pygments_lexer": "ipython3",
   "version": "3.8.8"
  }
 },
 "nbformat": 4,
 "nbformat_minor": 5
}
